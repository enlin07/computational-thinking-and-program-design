{
  "nbformat": 4,
  "nbformat_minor": 0,
  "metadata": {
    "colab": {
      "name": "week8-A108060044-林恩.ipynb",
      "provenance": [],
      "authorship_tag": "ABX9TyO9fpQsHkyNxWGmOvDgJ3wT",
      "include_colab_link": true
    },
    "kernelspec": {
      "name": "python3",
      "display_name": "Python 3"
    }
  },
  "cells": [
    {
      "cell_type": "markdown",
      "metadata": {
        "id": "view-in-github",
        "colab_type": "text"
      },
      "source": [
        "<a href=\"https://colab.research.google.com/github/enlin07/computational-thinking-and-program-design/blob/master/week8_A108060044_%E6%9E%97%E6%81%A9.ipynb\" target=\"_parent\"><img src=\"https://colab.research.google.com/assets/colab-badge.svg\" alt=\"Open In Colab\"/></a>"
      ]
    },
    {
      "cell_type": "code",
      "metadata": {
        "id": "ia5BEtzQiBDK",
        "colab_type": "code",
        "colab": {
          "base_uri": "https://localhost:8080/",
          "height": 121
        },
        "outputId": "743d84e4-9e1d-41dc-f71b-9a14be1c90b1"
      },
      "source": [
        "hours=input(\"Enter movie time hours:\")\n",
        "minutes=input(\"Enter movie time minutes:\")\n",
        "\n",
        "hours=int(hours)\n",
        "minutes=int(minutes)\n",
        "\n",
        "length=hours*60+minutes\n",
        "print(hours,\"Hours\",minutes,\"Minutes\",\"movie lenght is\",length,\"minutes\")\n",
        "\n",
        "hours1=length//60\n",
        "print(hours1)\n",
        "\n",
        "minutes1=length%60\n",
        "print(minutes1)\n",
        "\n",
        "print(length,\"Minutes equals\",hours1,\"Hours\",minutes1,\"Minutes\")"
      ],
      "execution_count": 4,
      "outputs": [
        {
          "output_type": "stream",
          "text": [
            "Enter movie time hours:2\n",
            "Enter movie time minutes:13\n",
            "2 Hours 13 Minutes movie lenght is 133 minutes\n",
            "2\n",
            "13\n",
            "133 Minutes equals 2 Hours 13 Minutes\n"
          ],
          "name": "stdout"
        }
      ]
    }
  ]
}