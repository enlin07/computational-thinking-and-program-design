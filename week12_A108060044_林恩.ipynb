{
  "nbformat": 4,
  "nbformat_minor": 0,
  "metadata": {
    "colab": {
      "name": "week12-A108060044-林恩.ipynb",
      "provenance": [],
      "authorship_tag": "ABX9TyM7ixcBgv20BmkJSZyXMYx3",
      "include_colab_link": true
    },
    "kernelspec": {
      "name": "python3",
      "display_name": "Python 3"
    }
  },
  "cells": [
    {
      "cell_type": "markdown",
      "metadata": {
        "id": "view-in-github",
        "colab_type": "text"
      },
      "source": [
        "<a href=\"https://colab.research.google.com/github/enlin07/computational-thinking-and-program-design/blob/master/week12_A108060044_%E6%9E%97%E6%81%A9.ipynb\" target=\"_parent\"><img src=\"https://colab.research.google.com/assets/colab-badge.svg\" alt=\"Open In Colab\"/></a>"
      ]
    },
    {
      "cell_type": "code",
      "metadata": {
        "id": "JI3-vAd_s0NG",
        "colab_type": "code",
        "colab": {
          "base_uri": "https://localhost:8080/",
          "height": 87
        },
        "outputId": "381d47a9-6a2d-4b5b-a248-f33900b06f43"
      },
      "source": [
        "noodle = input(\"有麵嗎？(YES/NO)\")\n",
        "sauce = input(\"有醬料嗎?(YES/NO)\")\n",
        "if noodle == \"YES\" and sauce ==\"YES\":\n",
        "  print(\"今晚吃義大利麵\")\n",
        "  print(\"well done!\")"
      ],
      "execution_count": 1,
      "outputs": [
        {
          "output_type": "stream",
          "text": [
            "有麵嗎？(YES/NO)YES\n",
            "有醬料嗎?(YES/NO)YES\n",
            "今晚吃義大利麵\n",
            "well done!\n"
          ],
          "name": "stdout"
        }
      ]
    },
    {
      "cell_type": "code",
      "metadata": {
        "id": "oUJjjgaXtIzr",
        "colab_type": "code",
        "colab": {
          "base_uri": "https://localhost:8080/",
          "height": 87
        },
        "outputId": "2f7157f0-6529-4db6-afb5-e9ac22867239"
      },
      "source": [
        "noodle = input(\"有麵嗎? (YES/NO)\")\n",
        "sauce = input(\"有醬料嗎?(YES/NO)\")\n",
        "if noodle ==\"YES\":\n",
        "    if sauce == \"YES\":\n",
        "     print(\"可做義大利麵!\")\n",
        "print(\"Well done!\")"
      ],
      "execution_count": 2,
      "outputs": [
        {
          "output_type": "stream",
          "text": [
            "有麵嗎? (YES/NO)YES\n",
            "有醬料嗎?(YES/NO)YES\n",
            "可做義大利麵!\n",
            "Well done!\n"
          ],
          "name": "stdout"
        }
      ]
    },
    {
      "cell_type": "code",
      "metadata": {
        "id": "anfT7uSptbbv",
        "colab_type": "code",
        "colab": {
          "base_uri": "https://localhost:8080/",
          "height": 104
        },
        "outputId": "90f8f275-fe44-4335-c638-cda0dd9b87a4"
      },
      "source": [
        "num_1 = int(input(\"Enter a number: \"))\n",
        "num_2 = int(input(\"Enter a number: \"))\n",
        "if num_1 == 12:\n",
        "     print(\"Great,what a number!\")\n",
        "     if num_2 == 28:\n",
        "         print(\"Wonderful, I win.\")\n",
        "print(\"End\")"
      ],
      "execution_count": 5,
      "outputs": [
        {
          "output_type": "stream",
          "text": [
            "Enter a number: 12\n",
            "Enter a number: 28\n",
            "Great,what a number!\n",
            "Wonderful, I win.\n",
            "End\n"
          ],
          "name": "stdout"
        }
      ]
    },
    {
      "cell_type": "code",
      "metadata": {
        "id": "ZmIs-ds1t-fD",
        "colab_type": "code",
        "colab": {
          "base_uri": "https://localhost:8080/",
          "height": 69
        },
        "outputId": "934bace6-1329-4bb0-dd16-b0aa6431b2b9"
      },
      "source": [
        "num = input(\"Enter a number: \")\n",
        "num = int(num)\n",
        "if num > 0:\n",
        "    print(\"Positive number\")\n",
        "if num < 0:\n",
        "    print(\"Negative number\")\n",
        "if num == 0:\n",
        "    print(\"zero\")\n",
        "print(\"End\")"
      ],
      "execution_count": 6,
      "outputs": [
        {
          "output_type": "stream",
          "text": [
            "Enter a number: 6\n",
            "Positive number\n",
            "End\n"
          ],
          "name": "stdout"
        }
      ]
    }
  ]
}