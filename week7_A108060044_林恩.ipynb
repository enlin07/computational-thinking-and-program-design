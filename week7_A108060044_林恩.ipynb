{
  "nbformat": 4,
  "nbformat_minor": 0,
  "metadata": {
    "colab": {
      "name": "week7-A108060044-林恩.ipynb",
      "provenance": [],
      "authorship_tag": "ABX9TyOh6TPXwb7oV/nq+TYe15MR",
      "include_colab_link": true
    },
    "kernelspec": {
      "name": "python3",
      "display_name": "Python 3"
    }
  },
  "cells": [
    {
      "cell_type": "markdown",
      "metadata": {
        "id": "view-in-github",
        "colab_type": "text"
      },
      "source": [
        "<a href=\"https://colab.research.google.com/github/enlin07/computational-thinking-and-program-design/blob/master/week7_A108060044_%E6%9E%97%E6%81%A9.ipynb\" target=\"_parent\"><img src=\"https://colab.research.google.com/assets/colab-badge.svg\" alt=\"Open In Colab\"/></a>"
      ]
    },
    {
      "cell_type": "code",
      "metadata": {
        "id": "7H8Nqb94qjAR",
        "colab_type": "code",
        "outputId": "0009d2b7-8b4e-46d9-d1b4-b3ea31f0c381",
        "colab": {
          "base_uri": "https://localhost:8080/",
          "height": 139
        }
      },
      "source": [
        "korean_drama=\"梨泰院class\"#韓劇名稱\n",
        "release_year=\"2020\"#放映日期\n",
        "drama_time_min=\"60\"#片長\n",
        "drama_rating=\"8.8\"#評分\n",
        "main_actor=\"朴敘俊\"#男主角\n",
        "main_actress=\"金多美\"#女主角\n",
        "language=\"韓文\"#語言\n",
        "print(korean_drama)\n",
        "print(release_year)\n",
        "print(drama_time_min)\n",
        "print(drama_rating)\n",
        "print(main_actor)\n",
        "print(main_actress)\n",
        "print(language)"
      ],
      "execution_count": 0,
      "outputs": [
        {
          "output_type": "stream",
          "text": [
            "梨泰院class\n",
            "2020\n",
            "60\n",
            "8.8\n",
            "朴敘俊\n",
            "金多美\n",
            "韓文\n"
          ],
          "name": "stdout"
        }
      ]
    }
  ]
}